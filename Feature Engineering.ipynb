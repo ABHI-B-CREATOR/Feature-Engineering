{
 "cells": [
  {
   "cell_type": "markdown",
   "id": "d41faba5-e3c9-4c37-98f5-a25423209e10",
   "metadata": {},
   "source": [
    "Question-1 What is a parameter?\n",
    "\n",
    "- A parameter in Machine Learning refers to a configuration variable that is learned from the data during model training. Parameters are the internal coefficients or weights that a model adjusts to improve its performance. Examples include:\n",
    "\n",
    "- The weights in a linear regression model\n",
    "- The coefficients in a neural network"
   ]
  },
  {
   "cell_type": "markdown",
   "id": "4cc4576f-7092-4c30-8265-6a61003bf6b2",
   "metadata": {},
   "source": [
    "Question-2 What is correlation?\n",
    "What does negative correlation mean?\n",
    "\n",
    "- Correlation is a statistical measure that expresses the strength and direction of the relationship between two variables. It tells us how changes in one variable are associated with changes in another.\n",
    "\n",
    "-  A negative correlation means that as one variable increases, the other decreases. It is represented by a correlation coefficient between -1 and 0.\n",
    "\n",
    "Example: As the price of a product increases, the demand for that product decreases (inverse relationship)."
   ]
  },
  {
   "cell_type": "markdown",
   "id": "a2367460-c6f6-4daa-9d69-9ee1e51c80b6",
   "metadata": {},
   "source": [
    "Question-3 Define Machine Learning. What are the main components in Machine Learning?\n",
    "\n",
    "- Machine Learning (ML) is a subset of artificial intelligence (AI) that enables computers to learn from data and make predictions or decisions without explicit programming.\n",
    "\n",
    "Main Components of ML:\n",
    "\n",
    "- Dataset – The input data used for training and testing.\n",
    "- Features (Independent Variables) – The attributes used to make predictions.\n",
    "- Model – The algorithm that learns from data.\n",
    "- Loss Function – Measures the difference between the predicted and actual values.\n",
    "- Optimization Algorithm – Adjusts parameters to minimize loss.\n",
    "- Training and Testing Data – Data split into two sets to evaluate performanc"
   ]
  },
  {
   "cell_type": "markdown",
   "id": "f0bff6c9-3738-4e85-b874-6cfae0418256",
   "metadata": {},
   "source": [
    "Question-4 How does loss value help in determining whether the model is good or not?\n",
    "\n",
    "- The loss value measures how well the model’s predictions match the actual values.\n",
    "\n",
    "- High Loss → The model is performing poorly.\n",
    "- Low Loss → The model is making accurate predictions.\n",
    "\n",
    "\n",
    "A good model should have a low loss value on both training and testing data, indicating it generalizes well to unseen data."
   ]
  },
  {
   "cell_type": "markdown",
   "id": "e9936904-cf61-44c9-a753-495df6fca043",
   "metadata": {},
   "source": [
    "Question-5 What are continuous and categorical variables?\n",
    "\n",
    "- Continuous Variables: Can take any numerical value within a range.\n",
    "\n",
    "Example: Height, temperature, price.\n",
    "\n",
    "- Categorical Variables: Represent distinct groups or categories.\n",
    "\n",
    "Example: Gender (Male, Female), Color (Red, Blue, Green).\n"
   ]
  },
  {
   "cell_type": "markdown",
   "id": "448c57ba-7dc4-488f-9d9b-c0fb2e32c741",
   "metadata": {},
   "source": [
    "Question-6 How do we handle categorical variables in Machine Learning? What are the common techniques?\n",
    "\n",
    "- Since machine learning models require numerical input, categorical variables must be converted into numbers. Common techniques include:\n",
    "\n",
    "- Label Encoding – Assigns a unique number to each category (e.g., Male = 0, Female = 1).\n",
    "- One-Hot Encoding – Creates binary columns for each category (e.g., Red → [1,0,0], Blue → [0,1,0]).\n",
    "- Ordinal Encoding – Assigns numerical values based on order (e.g., Small = 1, Medium = 2, Large = 3)."
   ]
  },
  {
   "cell_type": "markdown",
   "id": "13260eac-b0e9-482e-bbe7-e91f13f16ae4",
   "metadata": {},
   "source": [
    "Question-7 What do you mean by training and testing a dataset?\n",
    "\n",
    "- Training Dataset: The data used to teach the model. The model learns patterns from this data.\n",
    "- Testing Dataset: A separate dataset used to evaluate the model's performance. It helps check how well the model generalizes to new data.\n"
   ]
  },
  {
   "cell_type": "markdown",
   "id": "a6b8c338-ba3d-462e-84bd-1c15744d31e7",
   "metadata": {},
   "source": [
    "Question-8 What is sklearn.preprocessing?\n",
    "\n",
    "- sklearn.preprocessing is a module in Scikit-Learn that provides functions for transforming and scaling data. Some key preprocessing techniques include:\n",
    "\n",
    "- StandardScaler() – Standardizes features by removing the mean and scaling to unit - variance.\n",
    "- MinMaxScaler() – Scales values between a fixed range (0,1).\n",
    "- LabelEncoder() – Converts categorical labels into numerical values.\n",
    "- OneHotEncoder() – Converts categorical features into binary vectors."
   ]
  },
  {
   "cell_type": "markdown",
   "id": "5e6d56bd-4518-47f6-9822-e7081ab76240",
   "metadata": {},
   "source": [
    "Question-9 What is a Test set?\n",
    "\n",
    "- A Test set is a portion of the dataset used to evaluate the final performance of the trained model. It is separate from the training and validation sets to provide an unbiased estimate of the model’s accuracy on unseen data."
   ]
  },
  {
   "cell_type": "markdown",
   "id": "8e69b79a-db8d-4b82-9004-07277265d6a5",
   "metadata": {},
   "source": [
    "Question-10 How do we split data for model fitting (training and testing) in Python?\n",
    "How do you approach a Machine Learning problem?\n",
    "\n",
    "- A structured approach to solving ML problems includes:\n",
    "\n",
    "- Understand the Problem – Define the objective and expected output.\n",
    "- Collect Data – Gather relevant data from sources.\n",
    "- Data Preprocessing – Handle missing values, outliers, and scale features.\n",
    "- Feature Engineering – Select and transform important features.\n",
    "- Model Selection – Choose the appropriate ML algorithm.\n",
    "- Train the Model – Use training data to fit the model.\n",
    "- Evaluate the Model – Use test data to measure accuracy and performance.\n",
    "- Optimize the Model – Tune hyperparameters to improve performance.\n",
    "- Deploy the Model – Deploy in a real-world application.\n",
    "- Monitor and Update – Continuously check performance and retrain as needed."
   ]
  },
  {
   "cell_type": "markdown",
   "id": "87a04112-c089-4b1b-b780-57d1dc9ce4a9",
   "metadata": {},
   "source": [
    "from sklearn.model_selection import train_test_split\n",
    "\n",
    "# Example:\n",
    "X_train, X_test, y_train, y_test = train_test_split(X, y, test_size=0.2, random_state=42)\n"
   ]
  },
  {
   "cell_type": "markdown",
   "id": "4fd394d1-fe08-494d-a6d6-674de53b4949",
   "metadata": {},
   "source": [
    "Question-11 Why do we have to perform EDA before fitting a model to the data?\n",
    "\n",
    "- Exploratory Data Analysis (EDA) helps us understand the dataset before applying machine learning models. It is crucial because:\n",
    "\n",
    "- Identifies Missing Values – Helps in deciding how to handle them (imputation or removal).\n",
    "- Detects Outliers – Ensures extreme values don’t negatively impact the model.\n",
    "- Understands Feature Distribution – Helps in selecting appropriate transformations.\n",
    "- Finds Relationships Between Features – Helps in feature selection and engineering.\n",
    "- Avoids Data Leakage – Ensures test data doesn’t influence training."
   ]
  },
  {
   "cell_type": "markdown",
   "id": "68d5b9bf-e573-4da3-b3e6-075f2908cc5d",
   "metadata": {},
   "source": [
    "Question-12 What is correlation?\n",
    "\n",
    "- Correlation is a statistical measure that expresses the strength and direction of the relationship between two variables. It tells us how changes in one variable are associated with changes in another."
   ]
  },
  {
   "cell_type": "markdown",
   "id": "14498411-dbf3-40fc-9d68-9177f85503af",
   "metadata": {},
   "source": [
    "Question-13 What does negative correlation mean?\n",
    "\n",
    "- A negative correlation means that as one variable increases, the other decreases. It is represented by a correlation coefficient between -1 and 0.\n",
    "\n",
    "Example: As the price of a product increases, the demand for that product decreases (inverse relationship).\n"
   ]
  },
  {
   "cell_type": "markdown",
   "id": "10a38db2-f87c-45c5-bf57-c51e98bd2948",
   "metadata": {},
   "source": [
    "Question-14 How can you find correlation between variables in Python?"
   ]
  },
  {
   "cell_type": "code",
   "execution_count": 3,
   "id": "78583a6e-6a4a-4cbf-a1a6-191b75e19613",
   "metadata": {},
   "outputs": [
    {
     "name": "stdout",
     "output_type": "stream",
     "text": [
      "        Age  Salary\n",
      "Age     1.0     1.0\n",
      "Salary  1.0     1.0\n"
     ]
    },
    {
     "data": {
      "image/png": "[encoded data removed]",
      "text/plain": [
       "<Figure size 640x480 with 2 Axes>"
      ]
     },
     "metadata": {},
     "output_type": "display_data"
    }
   ],
   "source": [
    "import pandas as pd\n",
    "import seaborn as sns\n",
    "import matplotlib.pyplot as plt\n",
    "\n",
    "# Example dataset\n",
    "data = {'Age': [25, 30, 35, 40, 45], 'Salary': [40000, 50000, 60000, 70000, 80000]}\n",
    "df = pd.DataFrame(data)\n",
    "\n",
    "# Compute correlation matrix\n",
    "print(df.corr())\n",
    "\n",
    "# Visualize correlation heatmap\n",
    "sns.heatmap(df.corr(), annot=True, cmap=\"coolwarm\")\n",
    "plt.show()\n"
   ]
  },
  {
   "cell_type": "markdown",
   "id": "bc6d0998-91a0-4050-a564-b9611a153993",
   "metadata": {},
   "source": [
    "Question-15 What is causation? Explain difference between correlation and causation with an example?\n",
    "\n",
    "- Causation means that one variable directly affects another.\n",
    "- Correlation only means two variables are related, but it does not imply one causes the other.\n",
    "  \n",
    "Example:\n",
    "\n",
    "- Correlation: Ice cream sales and drowning incidents are correlated.\n",
    "- Causation: Higher temperatures cause both more people to buy ice cream and go swimming, increasing drowning incidents."
   ]
  },
  {
   "cell_type": "markdown",
   "id": "3e11c2b1-925f-4cb7-bf5e-bb019aac927d",
   "metadata": {},
   "source": [
    "Question-16 What is an Optimizer? What are different types of optimizers? Explain each with an example?\n",
    "\n",
    "- An optimizer is an algorithm that adjusts model parameters (weights and biases) to minimize the loss function during training.\n",
    "\n",
    "Types of Optimizers:\n",
    "\n",
    "- Gradient Descent (GD) – Updates model weights by computing the gradient of the loss function.\n",
    "  \n",
    "- Stochastic Gradient Descent (SGD) – Uses random mini-batches instead of the entire dataset, speeding up training.\n",
    "\n",
    "- Adam (Adaptive Moment Estimation) – Combines momentum and adaptive learning rates for faster convergence.\n",
    "\n",
    "- RMSprop (Root Mean Square Propagation) – Adapts learning rate individually for each parameter."
   ]
  },
  {
   "cell_type": "markdown",
   "id": "aa7eb6e8-cbd8-472e-94b2-09ffd1aed378",
   "metadata": {},
   "source": [
    "Question-17 What is sklearn.linear_model?\n",
    "\n",
    "- sklearn.linear_model is a module in Scikit-Learn that provides different linear models for regression and classification.\n",
    "\n",
    "Some commonly used models:\n",
    "\n",
    "- LinearRegression – Ordinary Least Squares (OLS) regression.\n",
    "- LogisticRegression – Used for binary/multi-class classification.\n",
    "- Ridge, Lasso, ElasticNet – Regularized linear regression models."
   ]
  },
  {
   "cell_type": "raw",
   "id": "e2d8fe7a-f9ed-4b07-83e7-0be92e7a427d",
   "metadata": {},
   "source": [
    "from sklearn.linear_model import LinearRegression\n",
    "\n",
    "# Create a model\n",
    "model = LinearRegression()\n",
    "\n",
    "# Fit the model\n",
    "model.fit(X_train, y_train)\n",
    "\n",
    "# Predict values\n",
    "predictions = model.predict(X_test)\n"
   ]
  },
  {
   "cell_type": "markdown",
   "id": "22fe2ee3-a9ea-4ab9-80e3-b2f5df49ca81",
   "metadata": {},
   "source": [
    "Question-18 What does model.fit() do? What arguments must be given?\n",
    "\n",
    "- model.fit() trains the machine learning model by adjusting its parameters using the given dataset.\n",
    "\n",
    "Arguments:\n",
    "\n",
    "- X_train – Training features.\n",
    "- y_train – Target variable."
   ]
  },
  {
   "cell_type": "markdown",
   "id": "9f2ba7d5-cf45-4e70-b24a-1dbd2b5c4516",
   "metadata": {},
   "source": [
    "Question-19 What does model.predict() do? What arguments must be given?\n",
    "\n",
    "- model.predict() makes predictions using the trained model.\n",
    "\n",
    "Arguments:\n",
    "\n",
    "- X_test – The input data for prediction."
   ]
  },
  {
   "cell_type": "markdown",
   "id": "9bddf484-456e-43b0-93e9-2ff7885f30f3",
   "metadata": {},
   "source": [
    "Question-20 What are continuous and categorical variables?\n",
    "\n",
    "- Continuous Variables: Can take any numerical value within a range.\n",
    "  \n",
    "Example: Height, weight, salary.\n",
    "- Categorical Variables: Represent distinct groups or categories.\n",
    "  \n",
    "Example: Gender (Male, Female), Education Level (High School, Bachelor’s, Master’s)."
   ]
  },
  {
   "cell_type": "markdown",
   "id": "29f24c2d-a6e9-4fab-9312-4b2349dca162",
   "metadata": {},
   "source": [
    "Question-21 What is feature scaling? How does it help in Machine Learning?\n",
    "\n",
    "- Feature scaling is a preprocessing technique used to normalize or standardize numerical features in a dataset so that they are on the same scale.\n",
    "\n",
    "***Why is Feature Scaling Important?***\n",
    "\n",
    "- Prevents dominance of large-scale features – Features with larger values can dominate the learning process.\n",
    "- Improves model convergence – Optimization algorithms (like Gradient Descent) converge faster with scaled data.\n",
    "- Enhances performance of distance-based models – Algorithms like KNN and SVM rely on distance calculations, which are affected by different feature scales.\n",
    "Common Methods:\n",
    "\n",
    "***Min-Max Scaling (Normalization)***\n",
    "\n",
    "- Scales data between a fixed range, typically [0,1] or [-1,1].\n",
    "- Used when data distribution is not normal.\n",
    "\n",
    "***Standardization (Z-score Normalization)***\n",
    "\n",
    "- Centers the data with mean = 0 and standard deviation = 1.\n",
    "- Useful when data follows a Gaussian distribution."
   ]
  },
  {
   "cell_type": "markdown",
   "id": "08de6d1a-ac79-4d06-801f-2c7b89376d7c",
   "metadata": {},
   "source": [
    "Question-22 How do we perform scaling in Python?"
   ]
  },
  {
   "cell_type": "code",
   "execution_count": 9,
   "id": "9b7df071-29ec-4903-9a5c-fae1a4cd3927",
   "metadata": {},
   "outputs": [
    {
     "name": "stdout",
     "output_type": "stream",
     "text": [
      "[[0.  ]\n",
      " [0.25]\n",
      " [0.5 ]\n",
      " [0.75]\n",
      " [1.  ]]\n"
     ]
    }
   ],
   "source": [
    "\"Min-Max Scaling (Normalization)\"\n",
    "\n",
    "from sklearn.preprocessing import MinMaxScaler\n",
    "import numpy as np\n",
    "\n",
    "# Sample data\n",
    "data = np.array([[100], [200], [300], [400], [500]])\n",
    "\n",
    "# Initialize scaler\n",
    "scaler = MinMaxScaler(feature_range=(0, 1))\n",
    "\n",
    "# Transform data\n",
    "scaled_data = scaler.fit_transform(data)\n",
    "print(scaled_data)\n"
   ]
  },
  {
   "cell_type": "code",
   "execution_count": 12,
   "id": "4b9c642b-c694-49ec-bfad-a1cbabb43ff9",
   "metadata": {},
   "outputs": [
    {
     "name": "stdout",
     "output_type": "stream",
     "text": [
      "[[-1.41421356]\n",
      " [-0.70710678]\n",
      " [ 0.        ]\n",
      " [ 0.70710678]\n",
      " [ 1.41421356]]\n"
     ]
    }
   ],
   "source": [
    "\"Standardization (Z-score Normalization)\"\n",
    "\n",
    "from sklearn.preprocessing import StandardScaler\n",
    "\n",
    "# Initialize scaler\n",
    "scaler = StandardScaler()\n",
    "\n",
    "# Transform data\n",
    "scaled_data = scaler.fit_transform(data)\n",
    "print(scaled_data)\n"
   ]
  },
  {
   "cell_type": "markdown",
   "id": "404220e9-0701-4d1f-a8bc-59cdea5afb6d",
   "metadata": {},
   "source": [
    "Question-23 What is sklearn.preprocessing?\n",
    "\n",
    "- sklearn.preprocessing is a module in Scikit-Learn that provides various functions for data preprocessing, including:\n",
    "\n",
    "***Feature Scaling***\n",
    "\n",
    "- StandardScaler() – Standardization (mean = 0, std = 1)\n",
    "- MinMaxScaler() – Normalization (scales between 0 and 1)\n",
    "  \n",
    "***Encoding Categorical Variables***\n",
    "\n",
    "- LabelEncoder() – Converts categories into numerical labels.\n",
    "- OneHotEncoder() – Converts categories into binary vectors.\n",
    "\n",
    "***Handling Missing Data***\n",
    "\n",
    "- SimpleImputer() – Fills missing values with mean, median, or mode."
   ]
  },
  {
   "cell_type": "markdown",
   "id": "d6fa582d-b772-4148-8fc2-d210992208c6",
   "metadata": {},
   "source": [
    "Question-24 How do we split data for model fitting (training and testing) in Python?"
   ]
  },
  {
   "cell_type": "code",
   "execution_count": 13,
   "id": "ef3d7ff8-fcbe-4d6c-a567-4d7814f68189",
   "metadata": {},
   "outputs": [
    {
     "name": "stdout",
     "output_type": "stream",
     "text": [
      "Training Data: [[5]\n",
      " [3]\n",
      " [1]\n",
      " [4]]\n",
      "Testing Data: [[2]]\n"
     ]
    }
   ],
   "source": [
    "from sklearn.model_selection import train_test_split\n",
    "import numpy as np\n",
    "\n",
    "# Sample data\n",
    "X = np.array([[1], [2], [3], [4], [5]])\n",
    "y = np.array([10, 20, 30, 40, 50])\n",
    "\n",
    "# Split data (80% training, 20% testing)\n",
    "X_train, X_test, y_train, y_test = train_test_split(X, y, test_size=0.2, random_state=42)\n",
    "\n",
    "print(\"Training Data:\", X_train)\n",
    "print(\"Testing Data:\", X_test)\n"
   ]
  },
  {
   "cell_type": "markdown",
   "id": "afa20c93-946d-4304-b196-45c1b52d3c76",
   "metadata": {},
   "source": [
    "Question-25 Explain data encoding?\n",
    "\n",
    "- Data Encoding is the process of converting categorical data into a numerical format so that machine learning models can process it.\n",
    "\n",
    "Common Encoding Techniques:\n",
    "\n",
    "***Label Encoding***\n",
    "\n",
    "- Assigns a unique integer to each category.\n",
    "- Suitable for ordinal data (ordered categories).\n",
    "\n",
    "***One-Hot Encoding***\n",
    "\n",
    "- Converts each category into a separate binary column.\n",
    "- Suitable for nominal data (unordered categories)."
   ]
  },
  {
   "cell_type": "markdown",
   "id": "71b76651-94af-48f3-aa5e-b002475a1a62",
   "metadata": {},
   "source": []
  },
  {
   "cell_type": "code",
   "execution_count": null,
   "id": "93592dc8-99d6-4d18-b656-a86fbb1cf4ae",
   "metadata": {},
   "outputs": [],
   "source": []
  },
  {
   "cell_type": "markdown",
   "id": "47a932b3-38ca-4a10-9492-d601186b5619",
   "metadata": {},
   "source": []
  },
  {
   "cell_type": "markdown",
   "id": "f1130659-2765-42ac-90c7-f43cc697557a",
   "metadata": {},
   "source": []
  },
  {
   "cell_type": "markdown",
   "id": "08b1a602-2ebe-4243-b402-c1dcb29746db",
   "metadata": {},
   "source": []
  },
  {
   "cell_type": "markdown",
   "id": "9ee1a181-48ae-481c-9a6e-b0fe50e86ec6",
   "metadata": {},
   "source": []
  },
  {
   "cell_type": "markdown",
   "id": "ef499c77-16f8-46a0-b4d6-616aea017379",
   "metadata": {},
   "source": []
  },
  {
   "cell_type": "markdown",
   "id": "4abf1a36-4e05-4138-b268-652d6e98a077",
   "metadata": {},
   "source": []
  },
  {
   "cell_type": "markdown",
   "id": "3205b307-dee1-4850-abd2-c374a9953c17",
   "metadata": {},
   "source": []
  },
  {
   "cell_type": "markdown",
   "id": "e3489fc5-dee5-43d5-815d-19657cda21c4",
   "metadata": {},
   "source": []
  },
  {
   "cell_type": "code",
   "execution_count": null,
   "id": "d42a5ecd-82f4-4d36-9ad5-d49ff97a880c",
   "metadata": {},
   "outputs": [],
   "source": []
  },
  {
   "cell_type": "markdown",
   "id": "1e5439bb-d11d-4231-9ca4-b4f4ed497784",
   "metadata": {},
   "source": []
  },
  {
   "cell_type": "markdown",
   "id": "f1a9d385-f050-4623-97d7-26106a54e9f8",
   "metadata": {},
   "source": []
  },
  {
   "cell_type": "markdown",
   "id": "2090eb47-a51d-45bb-85a7-4d65a0109ee2",
   "metadata": {},
   "source": []
  },
  {
   "cell_type": "markdown",
   "id": "51a5fc20-9c4f-4798-82a0-a94141c6acfd",
   "metadata": {},
   "source": []
  },
  {
   "cell_type": "markdown",
   "id": "7216059f-b16b-4ed4-9899-a4132666fc55",
   "metadata": {},
   "source": []
  },
  {
   "cell_type": "markdown",
   "id": "e56b592b-16a5-4470-84d5-dc1d0b7eefa7",
   "metadata": {},
   "source": []
  },
  {
   "cell_type": "markdown",
   "id": "af261a1c-2277-4540-ab81-ddb6291aded4",
   "metadata": {},
   "source": []
  },
  {
   "cell_type": "markdown",
   "id": "bb3980f4-34cb-4b4b-87e0-fa4896c7bdfc",
   "metadata": {},
   "source": []
  },
  {
   "cell_type": "code",
   "execution_count": null,
   "id": "379f1b87-0e62-420d-8ec5-d57c5148867e",
   "metadata": {},
   "outputs": [],
   "source": []
  },
  {
   "cell_type": "markdown",
   "id": "81ad9de0-af5c-4d76-bb17-1c814de2696e",
   "metadata": {},
   "source": []
  },
  {
   "cell_type": "markdown",
   "id": "ab9a17a2-fc45-4998-bf23-56bdb3c34299",
   "metadata": {},
   "source": []
  },
  {
   "cell_type": "markdown",
   "id": "8b233cbc-c773-4c0f-8eba-d22687256d65",
   "metadata": {},
   "source": []
  },
  {
   "cell_type": "markdown",
   "id": "a78bf2fd-2c4c-4588-a2d5-412490d423bd",
   "metadata": {},
   "source": []
  },
  {
   "cell_type": "markdown",
   "id": "c2042cb3-79f5-474d-8381-02070ed09abe",
   "metadata": {},
   "source": []
  },
  {
   "cell_type": "markdown",
   "id": "3c9379ae-33a8-4537-bf0d-a39522700961",
   "metadata": {},
   "source": []
  },
  {
   "cell_type": "markdown",
   "id": "9a4406e7-ff3c-41d5-b502-ca9c128e05ba",
   "metadata": {},
   "source": []
  },
  {
   "cell_type": "markdown",
   "id": "1f31e7ed-224e-4cd4-9e31-1c9666910569",
   "metadata": {},
   "source": []
  },
  {
   "cell_type": "code",
   "execution_count": null,
   "id": "3552ff9c-c394-4a7b-804d-642a5debf93c",
   "metadata": {},
   "outputs": [],
   "source": []
  },
  {
   "cell_type": "markdown",
   "id": "7db497eb-2a23-405b-9a3a-122e65fe2e8a",
   "metadata": {},
   "source": []
  },
  {
   "cell_type": "code",
   "execution_count": null,
   "id": "dc239529-9d63-42dc-8f92-fd367141a4c1",
   "metadata": {},
   "outputs": [],
   "source": []
  },
  {
   "cell_type": "markdown",
   "id": "f1bd33f5-cc3d-4dac-9ffb-49891ce74edf",
   "metadata": {},
   "source": []
  },
  {
   "cell_type": "code",
   "execution_count": null,
   "id": "e3f579fb-75d7-4e50-84a3-568fc2c62846",
   "metadata": {},
   "outputs": [],
   "source": []
  },
  {
   "cell_type": "code",
   "execution_count": null,
   "id": "66e0c836-b035-4547-9a6c-18c1039396f2",
   "metadata": {},
   "outputs": [],
   "source": []
  },
  {
   "cell_type": "markdown",
   "id": "e4045171-7db7-46e0-87f1-0b3da9e41b8d",
   "metadata": {},
   "source": []
  },
  {
   "cell_type": "markdown",
   "id": "839c2a7f-8811-4664-9f60-faf10c9bc330",
   "metadata": {},
   "source": []
  },
  {
   "cell_type": "markdown",
   "id": "a2284a2a-be36-41c7-8157-c3e637b37fb2",
   "metadata": {},
   "source": []
  },
  {
   "cell_type": "markdown",
   "id": "04aebf32-80cf-48aa-9a74-cb145fbd6027",
   "metadata": {},
   "source": []
  },
  {
   "cell_type": "markdown",
   "id": "4d1ad3c4-bba2-48c2-8968-5aaf64274479",
   "metadata": {},
   "source": []
  },
  {
   "cell_type": "markdown",
   "id": "ecc25653-9dfb-480e-a798-7a0b8dd27300",
   "metadata": {},
   "source": []
  },
  {
   "cell_type": "code",
   "execution_count": null,
   "id": "71c7190c-395e-42e2-b56a-d12343157915",
   "metadata": {},
   "outputs": [],
   "source": []
  },
  {
   "cell_type": "markdown",
   "id": "d7ac5841-c53a-4b8a-afc8-94891e003b5a",
   "metadata": {},
   "source": []
  },
  {
   "cell_type": "markdown",
   "id": "9ff3eb3a-f333-4008-8504-611a575ab6e0",
   "metadata": {},
   "source": []
  },
  {
   "cell_type": "markdown",
   "id": "12d557ab-c01f-4352-9192-0d710eabdcd3",
   "metadata": {},
   "source": []
  },
  {
   "cell_type": "markdown",
   "id": "abb622b1-319b-4f16-bd49-9027524fd72f",
   "metadata": {},
   "source": []
  },
  {
   "cell_type": "markdown",
   "id": "4b08a04b-6e2f-4d19-9550-58ac094106e6",
   "metadata": {},
   "source": []
  },
  {
   "cell_type": "markdown",
   "id": "c0f0d15a-d303-4149-adc8-12be388c4de1",
   "metadata": {},
   "source": []
  },
  {
   "cell_type": "markdown",
   "id": "061278a4-7c34-4f29-b980-bca8f859aa3f",
   "metadata": {},
   "source": []
  },
  {
   "cell_type": "markdown",
   "id": "34be35a8-27cf-49c8-b4d9-ae952a703b85",
   "metadata": {},
   "source": []
  },
  {
   "cell_type": "markdown",
   "id": "f82d3835-7a7b-47b6-b9e6-c0cd94b0ae18",
   "metadata": {},
   "source": []
  },
  {
   "cell_type": "markdown",
   "id": "7867309a-cd1c-4a37-9be6-8777a1fad785",
   "metadata": {},
   "source": []
  },
  {
   "cell_type": "markdown",
   "id": "8363d9de-e361-4516-8cf6-7322d048a362",
   "metadata": {},
   "source": []
  },
  {
   "cell_type": "markdown",
   "id": "c616d376-10cb-4ab3-a60c-7a709be84dac",
   "metadata": {},
   "source": []
  },
  {
   "cell_type": "markdown",
   "id": "796c2ca2-e0a3-419f-864e-5e94a830e99e",
   "metadata": {},
   "source": []
  }
 ],
 "metadata": {
  "kernelspec": {
   "display_name": "Python 3 (ipykernel)",
   "language": "python",
   "name": "python3"
  },
  "language_info": {
   "codemirror_mode": {
    "name": "ipython",
    "version": 3
   },
   "file_extension": ".py",
   "mimetype": "text/x-python",
   "name": "python",
   "nbconvert_exporter": "python",
   "pygments_lexer": "ipython3",
   "version": "3.12.7"
  }
 },
 "nbformat": 4,
 "nbformat_minor": 5
}
